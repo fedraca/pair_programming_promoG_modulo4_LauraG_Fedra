{
 "cells": [
  {
   "cell_type": "markdown",
   "metadata": {},
   "source": [
    "En términos generales, la felicidad se refiere al estado emocional y mental de bienestar y satisfacción con la vida. A nivel mundial, comprender y medir la felicidad  tiene importantes implicaciones para el desarrollo humano, la política pública y la calidad de vida de las personas.\n",
    "\n",
    "La felicidad es un indicador clave del bienestar humano. Más allá de los indicadores económicos tradicionales como el PBI per cápita, medir la felicidad proporciona una visión más completa de la calidad de vida de las personas. \n",
    "Los países y las comunidades que priorizan el bienestar y la felicidad de sus ciudadanos tienden a ser más resilientes, equitativos y prósperos a largo plazo.\n",
    "\n",
    "Las variables que hemos utilizado para realizar este reporte son :\n",
    "\n",
    "Country name: Teniendo en cuenta que tenemos datos de 137 paises . \n",
    "\n",
    "Rank: Esta variable indica la posición relativa de un país en una clasificación específica. \n",
    "\n",
    "Ladder score: Es una medida de la felicidad subjetiva de los ciudadanos de un país, generalmente en una escala del 1 al 10. Este puntaje se basa en encuestas que preguntan a las personas sobre su satisfacción con la vida en general.\n",
    "\n",
    "Social support: Esta variable mide el grado en que los individuos perciben que tienen apoyo social disponible en tiempos de necesidad. Puede incluir factores como el apoyo de la familia, amigos, vecinos y la comunidad en general.\n",
    "\n",
    "Healthy life expectancy: Se refiere a la esperanza de vida saludable, es decir, el número de años que se espera que una persona viva en buena salud sin enfrentar enfermedades graves o discapacidades.\n",
    "\n",
    "Freedom to make life choices: Indica el grado de libertad que tienen los individuos para tomar decisiones importantes en sus vidas, como la elección de su trabajo, su lugar de residencia, su estilo de vida, etc.\n",
    "\n",
    "Perceptions of corruption: Mide la percepción que tienen los ciudadanos sobre los niveles de corrupción en su país. Esto puede influir en la confianza en las instituciones gubernamentales y en la percepción de equidad y justicia en la sociedad.\n",
    "\n",
    "Generosity: Refleja el nivel de generosidad de los ciudadanos de un país, típicamente medido a través de indicadores como donaciones caritativas y voluntariado.\n",
    "\n",
    "Logged GDP per capita: Es una medida del producto interno bruto (PIB) per cápita de un país, ajustada por el logaritmo. Esta métrica proporciona una indicación del nivel de riqueza económica promedio de los habitantes de un país.\n",
    "\n",
    "Year: Indica el año al que corresponden los datos recopilados, basandonos desde el año 2015, hasta el 2023. Esto es importante para tener en cuenta posibles cambios a lo largo del tiempo y para contextualizar los resultados en un período específico.\n",
    "\n",
    "\n",
    "\n",
    "Es importante destacar que la felicidad es un concepto complejo y subjetivo, y los factores que contribuyen a ella pueden variar según el contexto cultural, histórico y socioeconómico de cada país. Además, la percepción de la felicidad puede ser influenciada por una variedad de otros factores individuales y contextuales.\n",
    "\n",
    "Podemos observar en las graficas que de un total de 137 paises, \n",
    "\n",
    "Los aspectos que hacen que Finlandia sea consistentemente uno de los países más felices del mundo. Su enfoque en el bienestar social, la igualdad y la calidad de vida ha sido fundamental para su posición destacada en el Índice Mundial de la Felicidad.\n",
    "\n"
   ]
  }
 ],
 "metadata": {
  "language_info": {
   "name": "python"
  }
 },
 "nbformat": 4,
 "nbformat_minor": 2
}
